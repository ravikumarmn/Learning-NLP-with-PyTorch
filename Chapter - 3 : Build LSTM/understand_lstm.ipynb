{
 "cells": [
  {
   "cell_type": "markdown",
   "metadata": {},
   "source": [
    "LSTM cell contains 4  gates, **Learn Gate, Forget Gate, Remember Gate, Use Gates.**\n",
    "\n",
    "Long Short Term Memory : \n",
    "*   Long term memory\n",
    "*   Short term memory\n",
    "\n",
    "\n",
    "### Learn Gate\n",
    "In the learn gate, \n",
    "\n",
    "It takes short term memory and event(x) and combines, then it ignores few things. keeping important.\n",
    "\n",
    "\n",
    "$$ Nt = {tanh(Wn[STM t-1,Et] + bn)} $$\n",
    "$$ it = {sigmoid(Wi[STMt-1,Et] + bi)} $$\n",
    "$$ Learn Gate  = {Nt * it} $$\n",
    "\n",
    "(elementwise multiplication)\n"
   ]
  },
  {
   "cell_type": "markdown",
   "metadata": {},
   "source": [
    "## Forget Gate \n",
    "\n",
    "It takes previous long term and multiply with forget gate, where forget gate is calculated using previous short term memory and current input.\n",
    "\n",
    "$$ ft = {Sigmoid(Wf[STMt-1,Et] +bf)}$$\n",
    "$$ ForgetGate = {LTMt-1 * ft} $$\n",
    "\n",
    "ft takes current input and previous short term memory and compress it to 0-1 using sigmoid(ignore factor). and then multiplied with previous long term memory.\n"
   ]
  },
  {
   "cell_type": "markdown",
   "metadata": {},
   "source": [
    "## Remember Gate \n",
    "\n",
    "adds Learn gate output and forget outut \n",
    "\n",
    "$$LTMt = {(LTMt-1 *ft) + (Nt*it)}$$"
   ]
  },
  {
   "cell_type": "markdown",
   "metadata": {},
   "source": [
    "## Use Gate /Output gate\n",
    "$$Ut = {tanh(WuLTMt-1*ft + ft*bu)}$$\n",
    "$$Vt = {Sigmoid(Wv[STMt-1,Et] + bv)}$$\n",
    "$$ STM = {Ut *Vt}$$"
   ]
  },
  {
   "cell_type": "code",
   "execution_count": 80,
   "metadata": {},
   "outputs": [],
   "source": [
    "import torch\n",
    "from torch import nn\n",
    "\n",
    "input_size = 5\n",
    "hidden_size = 8\n",
    "#Wii = (4*hidden size,input size)\n",
    "#xt = input at time t\n",
    "#bii = (4*hidden size)\n",
    "#whi = (4*hidden size,hidden size)\n",
    "#ht-1 = hidden state of the layer at time t-1 (initial hidden state at time 0)\n",
    "#bhi = (4*hidden size)\n"
   ]
  },
  {
   "cell_type": "code",
   "execution_count": 152,
   "metadata": {},
   "outputs": [],
   "source": [
    "xt = torch.tensor([[1,2,3,4,5]],dtype = torch.float32)\n",
    "ht_1 = torch.randn(1,hidden_size)\n",
    "ct_1 = torch.randn(1,4*hidden_size)"
   ]
  },
  {
   "cell_type": "code",
   "execution_count": 153,
   "metadata": {},
   "outputs": [],
   "source": [
    "#it - weights and bias\n",
    "\n",
    "Wii = torch.randn(4*hidden_size,input_size)\n",
    "bii = torch.randn(4*hidden_size)\n",
    "Whi = torch.randn(4*hidden_size,hidden_size)\n",
    "bhi = torch.randn(4*hidden_size)\n",
    "\n",
    "#ft - weights and bias\n",
    "\n",
    "Wif = torch.randn(4*hidden_size,input_size)\n",
    "bif = torch.randn(4*hidden_size)\n",
    "Whf = torch.randn(4*hidden_size,hidden_size)\n",
    "bhf = torch.randn(4*hidden_size)\n",
    "\n",
    "#gt - weights and bias\n",
    "\n",
    "Wig = torch.randn(4*hidden_size,input_size)\n",
    "big = torch.randn(4*hidden_size)\n",
    "Whg = torch.randn(4*hidden_size,hidden_size)\n",
    "bhg = torch.randn(4*hidden_size)\n",
    "\n",
    "#ot - weights and bias\n",
    "\n",
    "Wio = torch.randn(4*hidden_size,input_size)\n",
    "bio = torch.randn(4*hidden_size)\n",
    "Who = torch.randn(4*hidden_size,hidden_size)\n",
    "bho = torch.randn(4*hidden_size)"
   ]
  },
  {
   "cell_type": "markdown",
   "metadata": {},
   "source": [
    "$$it = {Sigmoid(Wiixt + bii + Whiht-1 + bhi)}$$"
   ]
  },
  {
   "cell_type": "code",
   "execution_count": 154,
   "metadata": {},
   "outputs": [],
   "source": [
    "#it\n",
    "first = torch.matmul(xt,Wii.T) + bii\n",
    "second = torch.matmul(ht_1,Whi.T) + bhi\n",
    "it = torch.sigmoid(first + second) # shape torch.Size([1, 32])"
   ]
  },
  {
   "cell_type": "markdown",
   "metadata": {},
   "source": [
    "$$ft = {Sigmoid(Wifxt + bif + Whfht-1+bhf)}$$"
   ]
  },
  {
   "cell_type": "code",
   "execution_count": 155,
   "metadata": {},
   "outputs": [],
   "source": [
    "#ft\n",
    "first = torch.matmul(xt,Wif.T) + bif\n",
    "second = torch.matmul(ht_1,Whf.T) + bhf\n",
    "ft = torch.sigmoid(first + second) # shape torch.Size([1, 32])"
   ]
  },
  {
   "cell_type": "markdown",
   "metadata": {},
   "source": [
    "$$gt = {tanh(Wigxt + big + Whg ht-1 + bhg)}$$"
   ]
  },
  {
   "cell_type": "code",
   "execution_count": 156,
   "metadata": {},
   "outputs": [],
   "source": [
    "#gt \n",
    "first = torch.matmul(xt,Wig.T) + big\n",
    "second = torch.matmul(ht_1,Whg.T) + bhg\n",
    "gt = torch.tanh(first + second) # shape torch.Size([1, 32])"
   ]
  },
  {
   "cell_type": "markdown",
   "metadata": {},
   "source": [
    "$$ot = {Sigmoid(Wioxt + bio+Whoht-1+bho)}$$"
   ]
  },
  {
   "cell_type": "code",
   "execution_count": 157,
   "metadata": {},
   "outputs": [],
   "source": [
    "#ot\n",
    "first = torch.matmul(xt,Wio.T) + bio\n",
    "second = torch.matmul(ht_1,Who.T) + bho\n",
    "ot = torch.sigmoid(first + second) # shape torch.Size([1, 32])"
   ]
  },
  {
   "cell_type": "markdown",
   "metadata": {},
   "source": [
    "$$ct = {ft \\odot ct-1 + it \\odot gt }$$"
   ]
  },
  {
   "cell_type": "code",
   "execution_count": 158,
   "metadata": {},
   "outputs": [],
   "source": [
    "#ct\n",
    "first = ft*ct_1\n",
    "second = it*gt\n",
    "ct = first + second"
   ]
  },
  {
   "cell_type": "markdown",
   "metadata": {},
   "source": [
    "$$ht = {ot \\odot tanh(ct)}$$"
   ]
  },
  {
   "cell_type": "code",
   "execution_count": 159,
   "metadata": {},
   "outputs": [],
   "source": [
    "#ht\n",
    "ht = ot*torch.tanh(ct)"
   ]
  },
  {
   "cell_type": "code",
   "execution_count": 160,
   "metadata": {},
   "outputs": [
    {
     "data": {
      "text/plain": [
       "torch.Size([1, 32])"
      ]
     },
     "execution_count": 160,
     "metadata": {},
     "output_type": "execute_result"
    }
   ],
   "source": [
    "ht.shape"
   ]
  },
  {
   "cell_type": "code",
   "execution_count": 161,
   "metadata": {},
   "outputs": [
    {
     "data": {
      "text/plain": [
       "torch.Size([1, 8])"
      ]
     },
     "execution_count": 161,
     "metadata": {},
     "output_type": "execute_result"
    }
   ],
   "source": [
    "out = nn.Linear(32,8)(ht)\n",
    "out.shape"
   ]
  },
  {
   "cell_type": "code",
   "execution_count": null,
   "metadata": {},
   "outputs": [],
   "source": []
  },
  {
   "cell_type": "code",
   "execution_count": 178,
   "metadata": {},
   "outputs": [],
   "source": []
  },
  {
   "cell_type": "code",
   "execution_count": 170,
   "metadata": {},
   "outputs": [],
   "source": []
  },
  {
   "cell_type": "code",
   "execution_count": null,
   "metadata": {},
   "outputs": [],
   "source": []
  },
  {
   "cell_type": "code",
   "execution_count": null,
   "metadata": {},
   "outputs": [],
   "source": []
  },
  {
   "cell_type": "code",
   "execution_count": null,
   "metadata": {},
   "outputs": [],
   "source": []
  }
 ],
 "metadata": {
  "kernelspec": {
   "display_name": "base_pytorch",
   "language": "python",
   "name": "python3"
  },
  "language_info": {
   "codemirror_mode": {
    "name": "ipython",
    "version": 3
   },
   "file_extension": ".py",
   "mimetype": "text/x-python",
   "name": "python",
   "nbconvert_exporter": "python",
   "pygments_lexer": "ipython3",
   "version": "3.9.12"
  },
  "orig_nbformat": 4,
  "vscode": {
   "interpreter": {
    "hash": "ecc1e0c57004a42925f1a7d3528192b163c048a803ed4402c89cd3dd7f075304"
   }
  }
 },
 "nbformat": 4,
 "nbformat_minor": 2
}
