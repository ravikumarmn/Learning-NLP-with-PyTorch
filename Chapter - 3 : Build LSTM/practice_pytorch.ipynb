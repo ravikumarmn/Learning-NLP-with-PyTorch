{
 "cells": [
  {
   "cell_type": "markdown",
   "metadata": {},
   "source": [
    "# Basic Pytorch "
   ]
  },
  {
   "cell_type": "markdown",
   "metadata": {},
   "source": [
    "Creating Tensors"
   ]
  },
  {
   "cell_type": "code",
   "execution_count": 8,
   "metadata": {},
   "outputs": [],
   "source": [
    "# helper function that helps us to describe various properties of tensors.\n",
    "def describe(x):\n",
    "    print(\"Type : {}\".format(x.type()))\n",
    "    print(\"Shape/size : {}\".format(x.shape))\n",
    "    print(\"Values : \\n{}\\n\".format(x))"
   ]
  },
  {
   "cell_type": "code",
   "execution_count": 9,
   "metadata": {},
   "outputs": [
    {
     "name": "stdout",
     "output_type": "stream",
     "text": [
      "Type : torch.FloatTensor\n",
      "Shape/size : torch.Size([2, 3])\n",
      "Values : \n",
      "tensor([[-1.9619e-32,  3.0761e-41, -2.0823e-32],\n",
      "        [ 3.0761e-41,  1.1210e-43,  0.0000e+00]])\n",
      "\n"
     ]
    }
   ],
   "source": [
    "# Creating tensor with torch.Tensor\n",
    "import torch\n",
    "describe(torch.Tensor(2,3))"
   ]
  },
  {
   "cell_type": "code",
   "execution_count": 10,
   "metadata": {},
   "outputs": [
    {
     "name": "stdout",
     "output_type": "stream",
     "text": [
      "Type : torch.FloatTensor\n",
      "Shape/size : torch.Size([2, 3])\n",
      "Values : \n",
      "tensor([[4.6971e-01, 9.7573e-01, 5.1737e-05],\n",
      "        [6.6069e-01, 9.2494e-01, 1.8244e-01]])\n",
      "\n",
      "Type : torch.FloatTensor\n",
      "Shape/size : torch.Size([2, 3])\n",
      "Values : \n",
      "tensor([[ 1.5903, -0.7021,  1.0048],\n",
      "        [ 0.4791, -1.1222, -0.1503]])\n",
      "\n"
     ]
    }
   ],
   "source": [
    "describe(torch.rand(2,3)) # Uniform random\n",
    "describe(torch.randn(2,3)) # random normal"
   ]
  },
  {
   "cell_type": "code",
   "execution_count": 12,
   "metadata": {},
   "outputs": [
    {
     "name": "stdout",
     "output_type": "stream",
     "text": [
      "Type : torch.FloatTensor\n",
      "Shape/size : torch.Size([2, 3])\n",
      "Values : \n",
      "tensor([[0., 0., 0.],\n",
      "        [0., 0., 0.]])\n",
      "\n",
      "Type : torch.FloatTensor\n",
      "Shape/size : torch.Size([2, 3])\n",
      "Values : \n",
      "tensor([[1., 1., 1.],\n",
      "        [1., 1., 1.]])\n",
      "\n",
      "Type : torch.FloatTensor\n",
      "Shape/size : torch.Size([2, 3])\n",
      "Values : \n",
      "tensor([[5., 5., 5.],\n",
      "        [5., 5., 5.]])\n",
      "\n"
     ]
    }
   ],
   "source": [
    "# creating tensor, filled with same scaler\n",
    "describe(torch.zeros(2,3))\n",
    "x = torch.ones(2,3)\n",
    "describe(x)\n",
    "x.fill_(5) # filling with 5 using fill_ function, inplace operations\n",
    "describe(x)"
   ]
  },
  {
   "cell_type": "code",
   "execution_count": 14,
   "metadata": {},
   "outputs": [
    {
     "name": "stdout",
     "output_type": "stream",
     "text": [
      "Type : torch.FloatTensor\n",
      "Shape/size : torch.Size([2, 3])\n",
      "Values : \n",
      "tensor([[1., 2., 3.],\n",
      "        [4., 5., 6.]])\n",
      "\n"
     ]
    }
   ],
   "source": [
    "# creating tensor using python list\n",
    "describe(torch.Tensor([[1,2,3],\n",
    "                        [4,5,6]]))"
   ]
  },
  {
   "cell_type": "code",
   "execution_count": 15,
   "metadata": {},
   "outputs": [
    {
     "name": "stdout",
     "output_type": "stream",
     "text": [
      "Type : torch.DoubleTensor\n",
      "Shape/size : torch.Size([2, 3])\n",
      "Values : \n",
      "tensor([[0.0987, 0.5766, 0.6846],\n",
      "        [0.3974, 0.1256, 0.6732]], dtype=torch.float64)\n",
      "\n"
     ]
    }
   ],
   "source": [
    "# numpy array to tensor\n",
    "import numpy as np\n",
    "npy = np.random.rand(2,3)\n",
    "describe(torch.from_numpy(npy))"
   ]
  },
  {
   "cell_type": "code",
   "execution_count": 16,
   "metadata": {},
   "outputs": [
    {
     "name": "stdout",
     "output_type": "stream",
     "text": [
      "Type : torch.FloatTensor\n",
      "Shape/size : torch.Size([2, 3])\n",
      "Values : \n",
      "tensor([[1., 2., 3.],\n",
      "        [4., 5., 6.]])\n",
      "\n"
     ]
    }
   ],
   "source": [
    "x = torch.FloatTensor([[1,2,3],\n",
    "                        [4,5,6]])\n",
    "describe(x)"
   ]
  },
  {
   "cell_type": "code",
   "execution_count": 18,
   "metadata": {},
   "outputs": [
    {
     "name": "stdout",
     "output_type": "stream",
     "text": [
      "Type : torch.LongTensor\n",
      "Shape/size : torch.Size([2, 3])\n",
      "Values : \n",
      "tensor([[1, 2, 3],\n",
      "        [4, 5, 6]])\n",
      "\n"
     ]
    }
   ],
   "source": [
    "x = x.long()\n",
    "describe(x)"
   ]
  },
  {
   "cell_type": "code",
   "execution_count": 19,
   "metadata": {},
   "outputs": [
    {
     "name": "stdout",
     "output_type": "stream",
     "text": [
      "Type : torch.LongTensor\n",
      "Shape/size : torch.Size([2, 3])\n",
      "Values : \n",
      "tensor([[1, 2, 3],\n",
      "        [4, 5, 6]])\n",
      "\n"
     ]
    }
   ],
   "source": [
    "x = torch.tensor([[1,2,3],\n",
    "                    [4,5,6]],dtype = torch.int64)\n",
    "describe(x)"
   ]
  },
  {
   "cell_type": "code",
   "execution_count": 20,
   "metadata": {},
   "outputs": [
    {
     "name": "stdout",
     "output_type": "stream",
     "text": [
      "Type : torch.FloatTensor\n",
      "Shape/size : torch.Size([2, 3])\n",
      "Values : \n",
      "tensor([[1., 2., 3.],\n",
      "        [4., 5., 6.]])\n",
      "\n"
     ]
    }
   ],
   "source": [
    "x =x.float()\n",
    "describe(x)"
   ]
  },
  {
   "cell_type": "markdown",
   "metadata": {},
   "source": [
    "Tensor Operations"
   ]
  },
  {
   "cell_type": "code",
   "execution_count": 21,
   "metadata": {},
   "outputs": [
    {
     "name": "stdout",
     "output_type": "stream",
     "text": [
      "Type : torch.FloatTensor\n",
      "Shape/size : torch.Size([2, 3])\n",
      "Values : \n",
      "tensor([[ 0.1956, -1.2471, -0.6217],\n",
      "        [ 1.6830, -0.2809,  0.6461]])\n",
      "\n"
     ]
    }
   ],
   "source": [
    "x = torch.randn(2,3)\n",
    "describe(x)"
   ]
  },
  {
   "cell_type": "code",
   "execution_count": 22,
   "metadata": {},
   "outputs": [
    {
     "name": "stdout",
     "output_type": "stream",
     "text": [
      "Type : torch.FloatTensor\n",
      "Shape/size : torch.Size([2, 3])\n",
      "Values : \n",
      "tensor([[ 0.3913, -2.4941, -1.2433],\n",
      "        [ 3.3660, -0.5618,  1.2923]])\n",
      "\n"
     ]
    }
   ],
   "source": [
    "describe(torch.add(x,x))"
   ]
  },
  {
   "cell_type": "code",
   "execution_count": 23,
   "metadata": {},
   "outputs": [
    {
     "name": "stdout",
     "output_type": "stream",
     "text": [
      "Type : torch.FloatTensor\n",
      "Shape/size : torch.Size([2, 3])\n",
      "Values : \n",
      "tensor([[ 0.3913, -2.4941, -1.2433],\n",
      "        [ 3.3660, -0.5618,  1.2923]])\n",
      "\n"
     ]
    }
   ],
   "source": [
    "describe(x+x)"
   ]
  },
  {
   "cell_type": "code",
   "execution_count": 24,
   "metadata": {},
   "outputs": [
    {
     "name": "stdout",
     "output_type": "stream",
     "text": [
      "Type : torch.LongTensor\n",
      "Shape/size : torch.Size([6])\n",
      "Values : \n",
      "tensor([0, 1, 2, 3, 4, 5])\n",
      "\n"
     ]
    }
   ],
   "source": [
    "x = torch.arange(6)\n",
    "describe(x)"
   ]
  },
  {
   "cell_type": "code",
   "execution_count": 25,
   "metadata": {},
   "outputs": [
    {
     "name": "stdout",
     "output_type": "stream",
     "text": [
      "Type : torch.LongTensor\n",
      "Shape/size : torch.Size([2, 3])\n",
      "Values : \n",
      "tensor([[0, 1, 2],\n",
      "        [3, 4, 5]])\n",
      "\n"
     ]
    }
   ],
   "source": [
    "x = x.view(2,3)\n",
    "describe(x)"
   ]
  },
  {
   "cell_type": "code",
   "execution_count": 26,
   "metadata": {},
   "outputs": [
    {
     "name": "stdout",
     "output_type": "stream",
     "text": [
      "Type : torch.LongTensor\n",
      "Shape/size : torch.Size([3])\n",
      "Values : \n",
      "tensor([3, 5, 7])\n",
      "\n"
     ]
    }
   ],
   "source": [
    "describe(torch.sum(x,dim= 0))"
   ]
  },
  {
   "cell_type": "code",
   "execution_count": 27,
   "metadata": {},
   "outputs": [
    {
     "name": "stdout",
     "output_type": "stream",
     "text": [
      "Type : torch.LongTensor\n",
      "Shape/size : torch.Size([2])\n",
      "Values : \n",
      "tensor([ 3, 12])\n",
      "\n"
     ]
    }
   ],
   "source": [
    "describe(torch.sum(x,dim= 1))\n"
   ]
  },
  {
   "cell_type": "code",
   "execution_count": 28,
   "metadata": {},
   "outputs": [
    {
     "name": "stdout",
     "output_type": "stream",
     "text": [
      "Type : torch.LongTensor\n",
      "Shape/size : torch.Size([3, 2])\n",
      "Values : \n",
      "tensor([[0, 3],\n",
      "        [1, 4],\n",
      "        [2, 5]])\n",
      "\n"
     ]
    }
   ],
   "source": [
    "describe(torch.transpose(x,0,1))"
   ]
  },
  {
   "cell_type": "markdown",
   "metadata": {},
   "source": [
    "Indexing, Slicing and Joining"
   ]
  },
  {
   "cell_type": "code",
   "execution_count": 29,
   "metadata": {},
   "outputs": [
    {
     "name": "stdout",
     "output_type": "stream",
     "text": [
      "Type : torch.LongTensor\n",
      "Shape/size : torch.Size([2, 3])\n",
      "Values : \n",
      "tensor([[0, 1, 2],\n",
      "        [3, 4, 5]])\n",
      "\n"
     ]
    }
   ],
   "source": [
    "x  = torch.arange(6).view(2,3)\n",
    "describe(x)"
   ]
  },
  {
   "cell_type": "code",
   "execution_count": 30,
   "metadata": {},
   "outputs": [
    {
     "name": "stdout",
     "output_type": "stream",
     "text": [
      "Type : torch.LongTensor\n",
      "Shape/size : torch.Size([1, 2])\n",
      "Values : \n",
      "tensor([[0, 1]])\n",
      "\n"
     ]
    }
   ],
   "source": [
    "describe(x[:1,:2])"
   ]
  },
  {
   "cell_type": "code",
   "execution_count": 36,
   "metadata": {},
   "outputs": [
    {
     "name": "stdout",
     "output_type": "stream",
     "text": [
      "Type : torch.LongTensor\n",
      "Shape/size : torch.Size([2, 2])\n",
      "Values : \n",
      "tensor([[0, 2],\n",
      "        [3, 5]])\n",
      "\n"
     ]
    }
   ],
   "source": [
    "indices = torch.LongTensor([0,2])\n",
    "describe(torch.index_select(x,dim = 1,index = indices))"
   ]
  },
  {
   "cell_type": "code",
   "execution_count": 38,
   "metadata": {},
   "outputs": [
    {
     "name": "stdout",
     "output_type": "stream",
     "text": [
      "Type : torch.LongTensor\n",
      "Shape/size : torch.Size([2, 3])\n",
      "Values : \n",
      "tensor([[0, 1, 2],\n",
      "        [0, 1, 2]])\n",
      "\n"
     ]
    }
   ],
   "source": [
    "indices = torch.LongTensor([0,0])\n",
    "describe(torch.index_select(x,dim = 0,index = indices))"
   ]
  },
  {
   "cell_type": "code",
   "execution_count": 40,
   "metadata": {},
   "outputs": [
    {
     "name": "stdout",
     "output_type": "stream",
     "text": [
      "Type : torch.LongTensor\n",
      "Shape/size : torch.Size([2])\n",
      "Values : \n",
      "tensor([0, 4])\n",
      "\n"
     ]
    }
   ],
   "source": [
    "row_indices = torch.arange(2).long()\n",
    "col_indices = torch.LongTensor([0,1])\n",
    "describe(x[row_indices,col_indices])"
   ]
  },
  {
   "cell_type": "code",
   "execution_count": 41,
   "metadata": {},
   "outputs": [
    {
     "data": {
      "text/plain": [
       "(tensor([0, 1]), tensor([0, 1]))"
      ]
     },
     "execution_count": 41,
     "metadata": {},
     "output_type": "execute_result"
    }
   ],
   "source": [
    "row_indices,col_indices"
   ]
  },
  {
   "cell_type": "code",
   "execution_count": 42,
   "metadata": {},
   "outputs": [
    {
     "name": "stdout",
     "output_type": "stream",
     "text": [
      "Type : torch.LongTensor\n",
      "Shape/size : torch.Size([6])\n",
      "Values : \n",
      "tensor([0, 1, 2, 3, 4, 5])\n",
      "\n"
     ]
    }
   ],
   "source": [
    "# dimention based tensor operations\n",
    "x = torch.arange(6)\n",
    "describe(x)"
   ]
  },
  {
   "cell_type": "code",
   "execution_count": 43,
   "metadata": {},
   "outputs": [
    {
     "name": "stdout",
     "output_type": "stream",
     "text": [
      "Type : torch.LongTensor\n",
      "Shape/size : torch.Size([2, 3])\n",
      "Values : \n",
      "tensor([[0, 1, 2],\n",
      "        [3, 4, 5]])\n",
      "\n"
     ]
    }
   ],
   "source": [
    "x = x.view(2,3)\n",
    "describe(x)"
   ]
  },
  {
   "cell_type": "code",
   "execution_count": 44,
   "metadata": {},
   "outputs": [
    {
     "name": "stdout",
     "output_type": "stream",
     "text": [
      "Type : torch.LongTensor\n",
      "Shape/size : torch.Size([3])\n",
      "Values : \n",
      "tensor([3, 5, 7])\n",
      "\n"
     ]
    }
   ],
   "source": [
    "describe(torch.sum(x,dim = 0))"
   ]
  },
  {
   "cell_type": "code",
   "execution_count": 45,
   "metadata": {},
   "outputs": [
    {
     "name": "stdout",
     "output_type": "stream",
     "text": [
      "Type : torch.LongTensor\n",
      "Shape/size : torch.Size([2])\n",
      "Values : \n",
      "tensor([ 3, 12])\n",
      "\n"
     ]
    }
   ],
   "source": [
    "describe(torch.sum(x,dim = 1))"
   ]
  },
  {
   "cell_type": "code",
   "execution_count": 46,
   "metadata": {},
   "outputs": [
    {
     "name": "stdout",
     "output_type": "stream",
     "text": [
      "Type : torch.LongTensor\n",
      "Shape/size : torch.Size([3, 2])\n",
      "Values : \n",
      "tensor([[0, 3],\n",
      "        [1, 4],\n",
      "        [2, 5]])\n",
      "\n"
     ]
    }
   ],
   "source": [
    "describe(torch.transpose(x,0,1))"
   ]
  },
  {
   "cell_type": "code",
   "execution_count": 47,
   "metadata": {},
   "outputs": [
    {
     "name": "stdout",
     "output_type": "stream",
     "text": [
      "Type : torch.LongTensor\n",
      "Shape/size : torch.Size([2, 3])\n",
      "Values : \n",
      "tensor([[0, 1, 2],\n",
      "        [3, 4, 5]])\n",
      "\n"
     ]
    }
   ],
   "source": [
    "x = torch.arange(6).view(2,3)\n",
    "describe(x)"
   ]
  },
  {
   "cell_type": "code",
   "execution_count": 48,
   "metadata": {},
   "outputs": [
    {
     "name": "stdout",
     "output_type": "stream",
     "text": [
      "Type : torch.LongTensor\n",
      "Shape/size : torch.Size([4, 3])\n",
      "Values : \n",
      "tensor([[0, 1, 2],\n",
      "        [3, 4, 5],\n",
      "        [0, 1, 2],\n",
      "        [3, 4, 5]])\n",
      "\n"
     ]
    }
   ],
   "source": [
    "describe(torch.cat([x,x],dim = 0))"
   ]
  },
  {
   "cell_type": "code",
   "execution_count": 49,
   "metadata": {},
   "outputs": [
    {
     "name": "stdout",
     "output_type": "stream",
     "text": [
      "Type : torch.LongTensor\n",
      "Shape/size : torch.Size([2, 6])\n",
      "Values : \n",
      "tensor([[0, 1, 2, 0, 1, 2],\n",
      "        [3, 4, 5, 3, 4, 5]])\n",
      "\n"
     ]
    }
   ],
   "source": [
    "describe(torch.cat([x,x],dim = 1))"
   ]
  },
  {
   "cell_type": "code",
   "execution_count": 50,
   "metadata": {},
   "outputs": [
    {
     "name": "stdout",
     "output_type": "stream",
     "text": [
      "Type : torch.LongTensor\n",
      "Shape/size : torch.Size([2, 2, 3])\n",
      "Values : \n",
      "tensor([[[0, 1, 2],\n",
      "         [3, 4, 5]],\n",
      "\n",
      "        [[0, 1, 2],\n",
      "         [3, 4, 5]]])\n",
      "\n"
     ]
    }
   ],
   "source": [
    "describe(torch.stack([x,x]))"
   ]
  },
  {
   "cell_type": "code",
   "execution_count": 52,
   "metadata": {},
   "outputs": [
    {
     "name": "stdout",
     "output_type": "stream",
     "text": [
      "Type : torch.LongTensor\n",
      "Shape/size : torch.Size([2, 3])\n",
      "Values : \n",
      "tensor([[0, 1, 2],\n",
      "        [3, 4, 5]])\n",
      "\n"
     ]
    }
   ],
   "source": [
    "# Linear algebra on tensors\n",
    "x1 = torch.arange(6).view(2,3)\n",
    "describe(x1)"
   ]
  },
  {
   "cell_type": "code",
   "execution_count": 56,
   "metadata": {},
   "outputs": [
    {
     "name": "stdout",
     "output_type": "stream",
     "text": [
      "Type : torch.FloatTensor\n",
      "Shape/size : torch.Size([3, 2])\n",
      "Values : \n",
      "tensor([[1., 2.],\n",
      "        [1., 2.],\n",
      "        [1., 2.]])\n",
      "\n"
     ]
    }
   ],
   "source": [
    "x2 = torch.ones(3,2)\n",
    "x2[:,1] += 1\n",
    "describe(x2)"
   ]
  },
  {
   "cell_type": "code",
   "execution_count": 59,
   "metadata": {},
   "outputs": [
    {
     "name": "stdout",
     "output_type": "stream",
     "text": [
      "Type : torch.FloatTensor\n",
      "Shape/size : torch.Size([2, 2])\n",
      "Values : \n",
      "tensor([[ 3.,  6.],\n",
      "        [12., 24.]])\n",
      "\n"
     ]
    }
   ],
   "source": [
    "describe(torch.mm(x1.float(),x2))"
   ]
  },
  {
   "cell_type": "code",
   "execution_count": 61,
   "metadata": {},
   "outputs": [
    {
     "name": "stdout",
     "output_type": "stream",
     "text": [
      "Type : torch.FloatTensor\n",
      "Shape/size : torch.Size([2, 2])\n",
      "Values : \n",
      "tensor([[1., 1.],\n",
      "        [1., 1.]], requires_grad=True)\n",
      "\n",
      "True\n"
     ]
    }
   ],
   "source": [
    "# Tensors and computational graphs\n",
    "x = torch.ones(2,2,requires_grad=True)\n",
    "describe(x)\n",
    "print(x.grad is None)"
   ]
  },
  {
   "cell_type": "code",
   "execution_count": 62,
   "metadata": {},
   "outputs": [
    {
     "name": "stdout",
     "output_type": "stream",
     "text": [
      "Type : torch.FloatTensor\n",
      "Shape/size : torch.Size([2, 2])\n",
      "Values : \n",
      "tensor([[21., 21.],\n",
      "        [21., 21.]], grad_fn=<AddBackward0>)\n",
      "\n",
      "True\n"
     ]
    }
   ],
   "source": [
    "y = (x+2) * (x+5) + 3\n",
    "describe(y)\n",
    "print(x.grad is None)"
   ]
  },
  {
   "cell_type": "code",
   "execution_count": 63,
   "metadata": {},
   "outputs": [
    {
     "name": "stdout",
     "output_type": "stream",
     "text": [
      "Type : torch.FloatTensor\n",
      "Shape/size : torch.Size([])\n",
      "Values : \n",
      "21.0\n",
      "\n",
      "False\n"
     ]
    }
   ],
   "source": [
    "z = y.mean()\n",
    "describe(z)\n",
    "z.backward()\n",
    "print(x.grad is None)"
   ]
  },
  {
   "cell_type": "code",
   "execution_count": 64,
   "metadata": {},
   "outputs": [
    {
     "name": "stdout",
     "output_type": "stream",
     "text": [
      "False\n"
     ]
    }
   ],
   "source": [
    "# cuda tebsors\n",
    "print(torch.cuda.is_available())"
   ]
  },
  {
   "cell_type": "code",
   "execution_count": 67,
   "metadata": {},
   "outputs": [
    {
     "name": "stdout",
     "output_type": "stream",
     "text": [
      "cpu\n"
     ]
    }
   ],
   "source": [
    "device = torch.device(\"cuda\" if torch.cuda.is_available() else \"cpu\")\n",
    "print(device)"
   ]
  },
  {
   "cell_type": "code",
   "execution_count": 68,
   "metadata": {},
   "outputs": [
    {
     "name": "stdout",
     "output_type": "stream",
     "text": [
      "Type : torch.FloatTensor\n",
      "Shape/size : torch.Size([3, 3])\n",
      "Values : \n",
      "tensor([[0.7995, 0.2596, 0.1187],\n",
      "        [0.1659, 0.1538, 0.2920],\n",
      "        [0.7364, 0.2568, 0.8920]])\n",
      "\n"
     ]
    }
   ],
   "source": [
    "x = torch.rand(3,3).to(device)\n",
    "describe(x)"
   ]
  },
  {
   "cell_type": "code",
   "execution_count": 70,
   "metadata": {},
   "outputs": [],
   "source": [
    "y = torch.rand(3,3)"
   ]
  },
  {
   "cell_type": "code",
   "execution_count": 71,
   "metadata": {},
   "outputs": [
    {
     "data": {
      "text/plain": [
       "tensor([[0.8785, 0.9204, 0.7497],\n",
       "        [1.0933, 0.7871, 0.6031],\n",
       "        [1.2339, 0.2969, 1.0061]])"
      ]
     },
     "execution_count": 71,
     "metadata": {},
     "output_type": "execute_result"
    }
   ],
   "source": [
    "cpu_device = torch.device(\"cpu\")\n",
    "y = y.to(cpu_device)\n",
    "x = x.to(cpu_device)\n",
    "x + y"
   ]
  }
 ],
 "metadata": {
  "kernelspec": {
   "display_name": "base_pytorch",
   "language": "python",
   "name": "python3"
  },
  "language_info": {
   "codemirror_mode": {
    "name": "ipython",
    "version": 3
   },
   "file_extension": ".py",
   "mimetype": "text/x-python",
   "name": "python",
   "nbconvert_exporter": "python",
   "pygments_lexer": "ipython3",
   "version": "3.9.12"
  },
  "orig_nbformat": 4,
  "vscode": {
   "interpreter": {
    "hash": "ecc1e0c57004a42925f1a7d3528192b163c048a803ed4402c89cd3dd7f075304"
   }
  }
 },
 "nbformat": 4,
 "nbformat_minor": 2
}
