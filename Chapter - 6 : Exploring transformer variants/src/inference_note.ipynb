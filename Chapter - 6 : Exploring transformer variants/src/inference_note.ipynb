{
 "cells": [
  {
   "cell_type": "code",
   "execution_count": 1,
   "metadata": {},
   "outputs": [
    {
     "name": "stderr",
     "output_type": "stream",
     "text": [
      "/home/miniconda3/envs/pytorch_p39/lib/python3.9/site-packages/tqdm/auto.py:22: TqdmWarning: IProgress not found. Please update jupyter and ipywidgets. See https://ipywidgets.readthedocs.io/en/stable/user_install.html\n",
      "  from .autonotebook import tqdm as notebook_tqdm\n"
     ]
    }
   ],
   "source": [
    "import torch\n",
    "import pandas as pd\n",
    "from torch.utils.data import DataLoader\n",
    "from transformers import AutoTokenizer\n",
    "from custom_data import CustomDataset\n",
    "import config\n",
    "from torch.utils.data import Dataset\n",
    "\n",
    "params = {k:v for k,v in config.__dict__.items() if \"__\" not in k}\n"
   ]
  },
  {
   "cell_type": "code",
   "execution_count": 11,
   "metadata": {},
   "outputs": [],
   "source": [
    "class CustomDataset(Dataset):\n",
    "    def __init__(self,dataframe,tokenizer,args):\n",
    "        super().__init__()\n",
    "        self.tokenizer = tokenizer\n",
    "        self.data = dataframe\n",
    "        self.args = args\n",
    "        # self.targets = dataframe[args['LABELS']].values\n",
    "        self.text_pair = dataframe['pairs']\n",
    "\n",
    "    def __len__(self):\n",
    "        return len(self.text_pair)\n",
    "\n",
    "    def __getitem__(self,idx):\n",
    "        pairs = self.text_pair.iloc[idx]\n",
    "        inputs = self.tokenizer.encode_plus(\n",
    "            pairs,\n",
    "            max_length = self.args['MAX_LEN'],\n",
    "            padding='max_length',\n",
    "            truncation = True,\n",
    "            return_tensors = \"pt\"\n",
    "        )\n",
    "        ids = inputs['input_ids'].squeeze(0)\n",
    "        mask = inputs['attention_mask'].squeeze(0)\n",
    "        token_type_ids = inputs[\"token_type_ids\"].squeeze(0)\n",
    "\n",
    "        return {\n",
    "            \"input_ids\" : ids.long(),\n",
    "            \"token_type_ids\" : token_type_ids.long(),\n",
    "            \"attention_mask\" : mask.long(),\n",
    "            \n",
    "        }\n",
    "\n",
    "def CustumLoader(params):\n",
    "    tokenizer = AutoTokenizer.from_pretrained(\"bert-base-uncased\")\n",
    "    test_dataset = pd.read_csv(params[\"TEST_PRE_DIR\"])\n",
    "    testing_set = CustomDataset(\n",
    "        test_dataset,\n",
    "        tokenizer=tokenizer,\n",
    "        args=params)\n",
    "\n",
    "    test_dataloader = DataLoader(\n",
    "        testing_set,\n",
    "        batch_size = params[\"BATCH_SIZE\"],\n",
    "        drop_last = True)\n",
    "        # (16tuple_in,1,450)\n",
    "    return test_dataloader\n"
   ]
  },
  {
   "cell_type": "code",
   "execution_count": 77,
   "metadata": {},
   "outputs": [],
   "source": [
    "\n",
    "\n",
    "class Inference():\n",
    "    def __init__(self,params):\n",
    "        self.params = params\n",
    "        all_checkpoints = os.listdir(params['CHECKPOINT_DIR'])\n",
    "        checkpoints = torch.load(params[\"CHECKPOINT_DIR\"]+all_checkpoints[-1])\n",
    "        self.model = BertClassifier()\n",
    "        self.model.load_state_dict(checkpoints['model_state_dict'])\n",
    "        self.model.eval()\n",
    "        self.test_dataloader= CustumLoader(params)\n",
    "\n",
    "    def predict(self,):\n",
    "        for batch in self.test_dataloader:\n",
    "            \n",
    "    def save(self):\n",
    "        pass\n"
   ]
  },
  {
   "cell_type": "code",
   "execution_count": 2,
   "metadata": {},
   "outputs": [],
   "source": [
    "test_df = pd.read_csv(params[\"TEST_DIR\"])\n",
    "test_df[\"TITLE\"] = test_df[\"TITLE\"].apply(lambda x : x.lower())\n",
    "test_df[\"ABSTRACT\"] = test_df[\"ABSTRACT\"].apply(lambda x : x.lower())\n"
   ]
  },
  {
   "cell_type": "code",
   "execution_count": 3,
   "metadata": {},
   "outputs": [],
   "source": [
    "# test_df = pd.read_csv(params[\"TEST_DIR\"])\n",
    "# test_df[\"TITLE\"] = test_df[\"TITLE\"].apply(lambda x : x.lower())\n",
    "# test_df[\"ABSTRACT\"] = test_df[\"ABSTRACT\"].apply(lambda x : x.lower())"
   ]
  },
  {
   "cell_type": "code",
   "execution_count": 4,
   "metadata": {},
   "outputs": [],
   "source": [
    "# test_df = test_df.drop(\"ID\",axis = 1)"
   ]
  },
  {
   "cell_type": "code",
   "execution_count": 5,
   "metadata": {},
   "outputs": [],
   "source": [
    "pairs = list()\n",
    "for idx in range(len(test_df)):\n",
    "    pairs.append(tuple(test_df[['TITLE','ABSTRACT']].iloc[idx]))\n",
    "\n",
    "test_df['pairs'] = pairs"
   ]
  },
  {
   "cell_type": "code",
   "execution_count": 7,
   "metadata": {},
   "outputs": [],
   "source": [
    "test_df = test_df.drop(['TITLE','ABSTRACT'],axis = 1)"
   ]
  },
  {
   "cell_type": "code",
   "execution_count": 8,
   "metadata": {},
   "outputs": [
    {
     "data": {
      "text/html": [
       "<div>\n",
       "<style scoped>\n",
       "    .dataframe tbody tr th:only-of-type {\n",
       "        vertical-align: middle;\n",
       "    }\n",
       "\n",
       "    .dataframe tbody tr th {\n",
       "        vertical-align: top;\n",
       "    }\n",
       "\n",
       "    .dataframe thead th {\n",
       "        text-align: right;\n",
       "    }\n",
       "</style>\n",
       "<table border=\"1\" class=\"dataframe\">\n",
       "  <thead>\n",
       "    <tr style=\"text-align: right;\">\n",
       "      <th></th>\n",
       "      <th>ID</th>\n",
       "      <th>pairs</th>\n",
       "    </tr>\n",
       "  </thead>\n",
       "  <tbody>\n",
       "    <tr>\n",
       "      <th>0</th>\n",
       "      <td>20973</td>\n",
       "      <td>(closed-form marginal likelihood in gamma-pois...</td>\n",
       "    </tr>\n",
       "    <tr>\n",
       "      <th>1</th>\n",
       "      <td>20974</td>\n",
       "      <td>(laboratory mid-ir spectra of equilibrated and...</td>\n",
       "    </tr>\n",
       "    <tr>\n",
       "      <th>2</th>\n",
       "      <td>20975</td>\n",
       "      <td>(case for static amsdu aggregation in wlans,  ...</td>\n",
       "    </tr>\n",
       "    <tr>\n",
       "      <th>3</th>\n",
       "      <td>20976</td>\n",
       "      <td>(the $gaia$-eso survey: the inner disk interme...</td>\n",
       "    </tr>\n",
       "    <tr>\n",
       "      <th>4</th>\n",
       "      <td>20977</td>\n",
       "      <td>(witness-functions versus interpretation-funct...</td>\n",
       "    </tr>\n",
       "  </tbody>\n",
       "</table>\n",
       "</div>"
      ],
      "text/plain": [
       "      ID                                              pairs\n",
       "0  20973  (closed-form marginal likelihood in gamma-pois...\n",
       "1  20974  (laboratory mid-ir spectra of equilibrated and...\n",
       "2  20975  (case for static amsdu aggregation in wlans,  ...\n",
       "3  20976  (the $gaia$-eso survey: the inner disk interme...\n",
       "4  20977  (witness-functions versus interpretation-funct..."
      ]
     },
     "execution_count": 8,
     "metadata": {},
     "output_type": "execute_result"
    }
   ],
   "source": [
    "test_df.head()"
   ]
  },
  {
   "cell_type": "code",
   "execution_count": 9,
   "metadata": {},
   "outputs": [],
   "source": [
    "test_df.to_csv(params[\"BASE_DIR\"]+params[\"WORKING_DIR\"]+\"dataset/prep_test_data.csv\",index = False)"
   ]
  },
  {
   "cell_type": "code",
   "execution_count": null,
   "metadata": {},
   "outputs": [],
   "source": []
  },
  {
   "cell_type": "code",
   "execution_count": 10,
   "metadata": {},
   "outputs": [
    {
     "data": {
      "text/html": [
       "<div>\n",
       "<style scoped>\n",
       "    .dataframe tbody tr th:only-of-type {\n",
       "        vertical-align: middle;\n",
       "    }\n",
       "\n",
       "    .dataframe tbody tr th {\n",
       "        vertical-align: top;\n",
       "    }\n",
       "\n",
       "    .dataframe thead th {\n",
       "        text-align: right;\n",
       "    }\n",
       "</style>\n",
       "<table border=\"1\" class=\"dataframe\">\n",
       "  <thead>\n",
       "    <tr style=\"text-align: right;\">\n",
       "      <th></th>\n",
       "      <th>ID</th>\n",
       "      <th>pairs</th>\n",
       "    </tr>\n",
       "  </thead>\n",
       "  <tbody>\n",
       "    <tr>\n",
       "      <th>0</th>\n",
       "      <td>20973</td>\n",
       "      <td>('closed-form marginal likelihood in gamma-poi...</td>\n",
       "    </tr>\n",
       "    <tr>\n",
       "      <th>1</th>\n",
       "      <td>20974</td>\n",
       "      <td>('laboratory mid-ir spectra of equilibrated an...</td>\n",
       "    </tr>\n",
       "    <tr>\n",
       "      <th>2</th>\n",
       "      <td>20975</td>\n",
       "      <td>('case for static amsdu aggregation in wlans',...</td>\n",
       "    </tr>\n",
       "    <tr>\n",
       "      <th>3</th>\n",
       "      <td>20976</td>\n",
       "      <td>('the $gaia$-eso survey: the inner disk interm...</td>\n",
       "    </tr>\n",
       "    <tr>\n",
       "      <th>4</th>\n",
       "      <td>20977</td>\n",
       "      <td>('witness-functions versus interpretation-func...</td>\n",
       "    </tr>\n",
       "  </tbody>\n",
       "</table>\n",
       "</div>"
      ],
      "text/plain": [
       "      ID                                              pairs\n",
       "0  20973  ('closed-form marginal likelihood in gamma-poi...\n",
       "1  20974  ('laboratory mid-ir spectra of equilibrated an...\n",
       "2  20975  ('case for static amsdu aggregation in wlans',...\n",
       "3  20976  ('the $gaia$-eso survey: the inner disk interm...\n",
       "4  20977  ('witness-functions versus interpretation-func..."
      ]
     },
     "execution_count": 10,
     "metadata": {},
     "output_type": "execute_result"
    }
   ],
   "source": [
    "dataframe = pd.read_csv(params['TEST_PRE_DIR']).head()\n"
   ]
  },
  {
   "cell_type": "code",
   "execution_count": 25,
   "metadata": {},
   "outputs": [],
   "source": [
    "class CustomDataset(Dataset):\n",
    "    def __init__(self,dataframe,tokenizer,args):\n",
    "        super().__init__()\n",
    "        self.tokenizer = tokenizer\n",
    "        self.data = dataframe\n",
    "        self.args = args\n",
    "        # self.targets = dataframe[args['LABELS']].values\n",
    "        self.text_pair = dataframe['pairs']\n",
    "\n",
    "    def __len__(self):\n",
    "        return len(self.text_pair)\n",
    "\n",
    "    def __getitem__(self,idx):\n",
    "        pairs = self.text_pair.iloc[idx]\n",
    "        inputs = self.tokenizer.encode_plus(\n",
    "            pairs,\n",
    "            max_length = self.args['MAX_LEN'],\n",
    "            padding='max_length',\n",
    "            truncation = True,\n",
    "            return_tensors = \"pt\"\n",
    "        )\n",
    "        ids = inputs['input_ids'].squeeze(0)\n",
    "        mask = inputs['attention_mask'].squeeze(0)\n",
    "        token_type_ids = inputs[\"token_type_ids\"].squeeze(0)\n",
    "\n",
    "        return {\n",
    "            \"input_ids\" : ids.long(),\n",
    "            \"token_type_ids\" : token_type_ids.long(),\n",
    "            \"attention_mask\" : mask.long(),\n",
    "            \n",
    "        }\n",
    "\n",
    "def CustumLoader(params):\n",
    "    tokenizer = AutoTokenizer.from_pretrained(\"bert-base-uncased\")\n",
    "    test_dataset = pd.read_csv(params[\"TEST_PRE_DIR\"])\n",
    "    testing_set = CustomDataset(\n",
    "        test_dataset,\n",
    "        tokenizer=tokenizer,\n",
    "        args=params)\n",
    "\n",
    "    test_dataloader = DataLoader(\n",
    "        testing_set,\n",
    "        batch_size = params[\"BATCH_SIZE\"],\n",
    "        drop_last = True)\n",
    "        # (16tuple_in,1,450)\n",
    "    return test_dataloader\n"
   ]
  },
  {
   "cell_type": "code",
   "execution_count": 26,
   "metadata": {},
   "outputs": [],
   "source": []
  },
  {
   "cell_type": "code",
   "execution_count": 27,
   "metadata": {},
   "outputs": [],
   "source": [
    "test_dataloader= CustumLoader(params)\n"
   ]
  },
  {
   "cell_type": "code",
   "execution_count": 28,
   "metadata": {},
   "outputs": [
    {
     "data": {
      "text/plain": [
       "561"
      ]
     },
     "execution_count": 28,
     "metadata": {},
     "output_type": "execute_result"
    }
   ],
   "source": [
    "len(test_dataloader)"
   ]
  },
  {
   "cell_type": "code",
   "execution_count": 29,
   "metadata": {},
   "outputs": [],
   "source": [
    "for i in test_dataloader:\n",
    "    break"
   ]
  },
  {
   "cell_type": "code",
   "execution_count": 46,
   "metadata": {},
   "outputs": [],
   "source": [
    "model.eval()\n",
    "input_ids = i['input_ids']\n",
    "attention_mask = i['attention_mask']\n",
    "token_type_ids = i[\"token_type_ids\"]"
   ]
  },
  {
   "cell_type": "code",
   "execution_count": 47,
   "metadata": {},
   "outputs": [],
   "source": [
    "out = model(input_ids,attention_mask,token_type_ids)\n"
   ]
  },
  {
   "cell_type": "code",
   "execution_count": 48,
   "metadata": {},
   "outputs": [
    {
     "data": {
      "text/plain": [
       "torch.Size([16, 6])"
      ]
     },
     "execution_count": 48,
     "metadata": {},
     "output_type": "execute_result"
    }
   ],
   "source": [
    "out.shape"
   ]
  },
  {
   "cell_type": "code",
   "execution_count": 2,
   "metadata": {},
   "outputs": [
    {
     "ename": "NameError",
     "evalue": "name 'torch' is not defined",
     "output_type": "error",
     "traceback": [
      "\u001b[0;31m---------------------------------------------------------------------------\u001b[0m",
      "\u001b[0;31mNameError\u001b[0m                                 Traceback (most recent call last)",
      "Cell \u001b[0;32mIn [2], line 1\u001b[0m\n\u001b[0;32m----> 1\u001b[0m torch\u001b[39m.\u001b[39msigmoid(out[\u001b[39m0\u001b[39m])\u001b[39m.\u001b[39mtolist()\n",
      "\u001b[0;31mNameError\u001b[0m: name 'torch' is not defined"
     ]
    }
   ],
   "source": [
    "torch.sigmoid(out[0]).tolist() "
   ]
  },
  {
   "cell_type": "code",
   "execution_count": 55,
   "metadata": {},
   "outputs": [
    {
     "ename": "KeyError",
     "evalue": "'SAMPLE_DIR'",
     "output_type": "error",
     "traceback": [
      "\u001b[0;31m---------------------------------------------------------------------------\u001b[0m",
      "\u001b[0;31mKeyError\u001b[0m                                  Traceback (most recent call last)",
      "Cell \u001b[0;32mIn [55], line 1\u001b[0m\n\u001b[0;32m----> 1\u001b[0m pd\u001b[39m.\u001b[39mread_csv(params[\u001b[39m'\u001b[39;49m\u001b[39mSAMPLE_DIR\u001b[39;49m\u001b[39m'\u001b[39;49m])\n",
      "\u001b[0;31mKeyError\u001b[0m: 'SAMPLE_DIR'"
     ]
    }
   ],
   "source": [
    "pd.read_csv(params['SAMPLE_DIR'])"
   ]
  },
  {
   "cell_type": "code",
   "execution_count": 58,
   "metadata": {},
   "outputs": [
    {
     "data": {
      "text/html": [
       "<div>\n",
       "<style scoped>\n",
       "    .dataframe tbody tr th:only-of-type {\n",
       "        vertical-align: middle;\n",
       "    }\n",
       "\n",
       "    .dataframe tbody tr th {\n",
       "        vertical-align: top;\n",
       "    }\n",
       "\n",
       "    .dataframe thead th {\n",
       "        text-align: right;\n",
       "    }\n",
       "</style>\n",
       "<table border=\"1\" class=\"dataframe\">\n",
       "  <thead>\n",
       "    <tr style=\"text-align: right;\">\n",
       "      <th></th>\n",
       "      <th>ID</th>\n",
       "      <th>Computer Science</th>\n",
       "      <th>Physics</th>\n",
       "      <th>Mathematics</th>\n",
       "      <th>Statistics</th>\n",
       "      <th>Quantitative Biology</th>\n",
       "      <th>Quantitative Finance</th>\n",
       "    </tr>\n",
       "  </thead>\n",
       "  <tbody>\n",
       "    <tr>\n",
       "      <th>0</th>\n",
       "      <td>20973</td>\n",
       "      <td>0</td>\n",
       "      <td>0</td>\n",
       "      <td>0</td>\n",
       "      <td>0</td>\n",
       "      <td>0</td>\n",
       "      <td>0</td>\n",
       "    </tr>\n",
       "    <tr>\n",
       "      <th>1</th>\n",
       "      <td>20974</td>\n",
       "      <td>0</td>\n",
       "      <td>0</td>\n",
       "      <td>0</td>\n",
       "      <td>0</td>\n",
       "      <td>0</td>\n",
       "      <td>0</td>\n",
       "    </tr>\n",
       "    <tr>\n",
       "      <th>2</th>\n",
       "      <td>20975</td>\n",
       "      <td>0</td>\n",
       "      <td>0</td>\n",
       "      <td>0</td>\n",
       "      <td>0</td>\n",
       "      <td>0</td>\n",
       "      <td>0</td>\n",
       "    </tr>\n",
       "    <tr>\n",
       "      <th>3</th>\n",
       "      <td>20976</td>\n",
       "      <td>0</td>\n",
       "      <td>0</td>\n",
       "      <td>0</td>\n",
       "      <td>0</td>\n",
       "      <td>0</td>\n",
       "      <td>0</td>\n",
       "    </tr>\n",
       "    <tr>\n",
       "      <th>4</th>\n",
       "      <td>20977</td>\n",
       "      <td>0</td>\n",
       "      <td>0</td>\n",
       "      <td>0</td>\n",
       "      <td>0</td>\n",
       "      <td>0</td>\n",
       "      <td>0</td>\n",
       "    </tr>\n",
       "    <tr>\n",
       "      <th>...</th>\n",
       "      <td>...</td>\n",
       "      <td>...</td>\n",
       "      <td>...</td>\n",
       "      <td>...</td>\n",
       "      <td>...</td>\n",
       "      <td>...</td>\n",
       "      <td>...</td>\n",
       "    </tr>\n",
       "    <tr>\n",
       "      <th>8984</th>\n",
       "      <td>29957</td>\n",
       "      <td>0</td>\n",
       "      <td>0</td>\n",
       "      <td>0</td>\n",
       "      <td>0</td>\n",
       "      <td>0</td>\n",
       "      <td>0</td>\n",
       "    </tr>\n",
       "    <tr>\n",
       "      <th>8985</th>\n",
       "      <td>29958</td>\n",
       "      <td>0</td>\n",
       "      <td>0</td>\n",
       "      <td>0</td>\n",
       "      <td>0</td>\n",
       "      <td>0</td>\n",
       "      <td>0</td>\n",
       "    </tr>\n",
       "    <tr>\n",
       "      <th>8986</th>\n",
       "      <td>29959</td>\n",
       "      <td>0</td>\n",
       "      <td>0</td>\n",
       "      <td>0</td>\n",
       "      <td>0</td>\n",
       "      <td>0</td>\n",
       "      <td>0</td>\n",
       "    </tr>\n",
       "    <tr>\n",
       "      <th>8987</th>\n",
       "      <td>29960</td>\n",
       "      <td>0</td>\n",
       "      <td>0</td>\n",
       "      <td>0</td>\n",
       "      <td>0</td>\n",
       "      <td>0</td>\n",
       "      <td>0</td>\n",
       "    </tr>\n",
       "    <tr>\n",
       "      <th>8988</th>\n",
       "      <td>29961</td>\n",
       "      <td>0</td>\n",
       "      <td>0</td>\n",
       "      <td>0</td>\n",
       "      <td>0</td>\n",
       "      <td>0</td>\n",
       "      <td>0</td>\n",
       "    </tr>\n",
       "  </tbody>\n",
       "</table>\n",
       "<p>8989 rows × 7 columns</p>\n",
       "</div>"
      ],
      "text/plain": [
       "         ID  Computer Science  Physics  Mathematics  Statistics  \\\n",
       "0     20973                 0        0            0           0   \n",
       "1     20974                 0        0            0           0   \n",
       "2     20975                 0        0            0           0   \n",
       "3     20976                 0        0            0           0   \n",
       "4     20977                 0        0            0           0   \n",
       "...     ...               ...      ...          ...         ...   \n",
       "8984  29957                 0        0            0           0   \n",
       "8985  29958                 0        0            0           0   \n",
       "8986  29959                 0        0            0           0   \n",
       "8987  29960                 0        0            0           0   \n",
       "8988  29961                 0        0            0           0   \n",
       "\n",
       "      Quantitative Biology  Quantitative Finance  \n",
       "0                        0                     0  \n",
       "1                        0                     0  \n",
       "2                        0                     0  \n",
       "3                        0                     0  \n",
       "4                        0                     0  \n",
       "...                    ...                   ...  \n",
       "8984                     0                     0  \n",
       "8985                     0                     0  \n",
       "8986                     0                     0  \n",
       "8987                     0                     0  \n",
       "8988                     0                     0  \n",
       "\n",
       "[8989 rows x 7 columns]"
      ]
     },
     "execution_count": 58,
     "metadata": {},
     "output_type": "execute_result"
    }
   ],
   "source": [
    "pd.read_csv(\"/home/Ravikumar/Developer/Learning-NLP-with-PyTorch/Chapter - 6 : Exploring transformer variants/dataset/sample_submission.csv\")"
   ]
  },
  {
   "cell_type": "code",
   "execution_count": 60,
   "metadata": {},
   "outputs": [],
   "source": [
    "probs = torch.sigmoid(out[0]).tolist()"
   ]
  },
  {
   "cell_type": "code",
   "execution_count": 71,
   "metadata": {},
   "outputs": [],
   "source": [
    "one_list = list()\n",
    "one_list.append(dict(zip(params['LABELS'],[1 if p>0.5 else 0 for p in probs])))"
   ]
  },
  {
   "cell_type": "code",
   "execution_count": 72,
   "metadata": {},
   "outputs": [
    {
     "data": {
      "text/html": [
       "<div>\n",
       "<style scoped>\n",
       "    .dataframe tbody tr th:only-of-type {\n",
       "        vertical-align: middle;\n",
       "    }\n",
       "\n",
       "    .dataframe tbody tr th {\n",
       "        vertical-align: top;\n",
       "    }\n",
       "\n",
       "    .dataframe thead th {\n",
       "        text-align: right;\n",
       "    }\n",
       "</style>\n",
       "<table border=\"1\" class=\"dataframe\">\n",
       "  <thead>\n",
       "    <tr style=\"text-align: right;\">\n",
       "      <th></th>\n",
       "      <th>Computer Science</th>\n",
       "      <th>Physics</th>\n",
       "      <th>Mathematics</th>\n",
       "      <th>Statistics</th>\n",
       "      <th>Quantitative Biology</th>\n",
       "      <th>Quantitative Finance</th>\n",
       "    </tr>\n",
       "  </thead>\n",
       "  <tbody>\n",
       "    <tr>\n",
       "      <th>0</th>\n",
       "      <td>1</td>\n",
       "      <td>0</td>\n",
       "      <td>0</td>\n",
       "      <td>1</td>\n",
       "      <td>0</td>\n",
       "      <td>0</td>\n",
       "    </tr>\n",
       "  </tbody>\n",
       "</table>\n",
       "</div>"
      ],
      "text/plain": [
       "   Computer Science  Physics  Mathematics  Statistics  Quantitative Biology  \\\n",
       "0                 1        0            0           1                     0   \n",
       "\n",
       "   Quantitative Finance  \n",
       "0                     0  "
      ]
     },
     "execution_count": 72,
     "metadata": {},
     "output_type": "execute_result"
    }
   ],
   "source": [
    "pd.DataFrame(one_list)"
   ]
  },
  {
   "cell_type": "code",
   "execution_count": 10,
   "metadata": {},
   "outputs": [],
   "source": [
    "import torch\n",
    "matrix1 = torch.randn(3,16,6)"
   ]
  },
  {
   "cell_type": "code",
   "execution_count": null,
   "metadata": {},
   "outputs": [],
   "source": [
    "one_list"
   ]
  },
  {
   "cell_type": "code",
   "execution_count": null,
   "metadata": {},
   "outputs": [],
   "source": []
  }
 ],
 "metadata": {
  "kernelspec": {
   "display_name": "Python 3.9.15 ('pytorch_p39')",
   "language": "python",
   "name": "python3"
  },
  "language_info": {
   "codemirror_mode": {
    "name": "ipython",
    "version": 3
   },
   "file_extension": ".py",
   "mimetype": "text/x-python",
   "name": "python",
   "nbconvert_exporter": "python",
   "pygments_lexer": "ipython3",
   "version": "3.9.15"
  },
  "orig_nbformat": 4,
  "vscode": {
   "interpreter": {
    "hash": "95aac795b256ca81790b03f5327d66a3955fee3b81dfc95d5d267fe1f88b1813"
   }
  }
 },
 "nbformat": 4,
 "nbformat_minor": 2
}
