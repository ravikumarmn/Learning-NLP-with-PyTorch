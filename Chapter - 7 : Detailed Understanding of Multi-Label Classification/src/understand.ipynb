{
 "metadata": {
  "language_info": {
   "codemirror_mode": {
    "name": "ipython",
    "version": 3
   },
   "file_extension": ".py",
   "mimetype": "text/x-python",
   "name": "python",
   "nbconvert_exporter": "python",
   "pygments_lexer": "ipython3",
   "version": "3.7.15"
  },
  "orig_nbformat": 2,
  "kernelspec": {
   "name": "python3715jvsc74a57bd04cd7ab41f5fca4b9b44701077e38c5ffd31fe66a6cab21e0214b68d958d0e462",
   "display_name": "Python 3.7.15 64-bit"
  },
  "metadata": {
   "interpreter": {
    "hash": "4cd7ab41f5fca4b9b44701077e38c5ffd31fe66a6cab21e0214b68d958d0e462"
   }
  }
 },
 "nbformat": 4,
 "nbformat_minor": 2,
 "cells": [
  {
   "cell_type": "code",
   "execution_count": 6,
   "metadata": {},
   "outputs": [],
   "source": [
    "import pandas as pd\n",
    "import re\n"
   ]
  },
  {
   "cell_type": "code",
   "execution_count": 4,
   "metadata": {},
   "outputs": [],
   "source": [
    "train_df = pd.read_csv(\"/content/drive/MyDrive/Learning-NLP-with-PyTorch/Chapter - 7 : Detailed Understanding of Multi-Label Classification/dataset/train.csv\")"
   ]
  },
  {
   "cell_type": "code",
   "execution_count": 7,
   "metadata": {},
   "outputs": [],
   "source": [
    "def clean_text(text):\n",
    "    text = re.sub(r'(\\#\\w+)',\" \",text) \n",
    "    text = re.sub(r\"br\",\"\",text)\n",
    "    text = re.sub(r'[^\\w\\s]', ' ', text)\n",
    "    text = re.sub('[^a-zA-Z]+',' ',text)\n",
    "    text = text.lower()\n",
    "    return text.strip()\n",
    "    \n",
    "train_df['clean_abstract'] = train_df['ABSTRACT'].apply(lambda x : clean_text(x))\n",
    "train_df['clean_title'] = train_df['TITLE'].apply(lambda x : clean_text(x))\n"
   ]
  },
  {
   "cell_type": "code",
   "execution_count": 8,
   "metadata": {},
   "outputs": [
    {
     "output_type": "display_data",
     "data": {
      "text/plain": "  0%|          | 0/20972 [00:00<?, ?it/s]",
      "application/vnd.jupyter.widget-view+json": {
       "version_major": 2,
       "version_minor": 0,
       "model_id": "c9a220f887344294b171f8c448e8b2b2"
      }
     },
     "metadata": {}
    }
   ],
   "source": [
    "from tqdm.auto import tqdm\n",
    "pairs = list()\n",
    "for idx in tqdm(range(len(train_df)),total = len(train_df)):\n",
    "    pairs.append(tuple(train_df[['clean_title','clean_abstract']].iloc[idx]))"
   ]
  },
  {
   "cell_type": "code",
   "execution_count": 9,
   "metadata": {},
   "outputs": [],
   "source": [
    "assert len(train_df) == len(pairs)\n",
    "train_df['pairs'] = pairs"
   ]
  },
  {
   "cell_type": "code",
   "execution_count": 10,
   "metadata": {},
   "outputs": [
    {
     "output_type": "execute_result",
     "data": {
      "text/plain": [
       "('reconstructing subject specific effect maps',\n",
       " 'predictive models allow subject specific inference when analyzing disease related alterations in neuroimaging data given a subject s data inference can be made at two levels global i e identifiying condition presence for the subject and local i e detecting condition effect on each individual measurement extracted from the subject s data while global inference is widely used local inference which can be used to form subject specific effect maps is rarely used because existing models often yield noisy detections composed of dispersed isolated islands in this article we propose a reconstruction method named rsm to improve subject specific detections of predictive modeling approaches and in particular binary classifiers rsm specifically aims to reduce noise due to sampling error associated with using a finite sample of examples to train classifiers the proposed method is a wrapper type algorithm that can be used with different binary classifiers in a diagnostic manner i e without information on condition presence reconstruction is posed as a maximum a posteriori problem with a prior model whose parameters are estimated from training data in a classifier specific fashion experimental evaluation is performed on synthetically generated data and data from the alzheimer s disease neuroimaging initiative adni database results on synthetic data demonstrate that using rsm yields higher detection accuracy compared to using models directly or with bootstrap averaging analyses on the adni dataset show that rsm can also improve correlation between subject specific detections in cortical thickness data and non imaging markers of alzheimer s disease ad such as the mini mental state examination score and cereospinal fluid amyloid beta levels further reliability studies on the longitudinal adni dataset show improvement on detection reliability when rsm is used')"
      ]
     },
     "metadata": {},
     "execution_count": 10
    }
   ],
   "source": [
    "train_df['pairs'][0]"
   ]
  },
  {
   "cell_type": "code",
   "execution_count": 11,
   "metadata": {},
   "outputs": [
    {
     "output_type": "execute_result",
     "data": {
      "text/plain": [
       "Index(['ID', 'TITLE', 'ABSTRACT', 'Computer Science', 'Physics', 'Mathematics',\n",
       "       'Statistics', 'Quantitative Biology', 'Quantitative Finance',\n",
       "       'clean_abstract', 'clean_title', 'pairs'],\n",
       "      dtype='object')"
      ]
     },
     "metadata": {},
     "execution_count": 11
    }
   ],
   "source": [
    "train_df.columns"
   ]
  },
  {
   "cell_type": "code",
   "execution_count": 14,
   "metadata": {},
   "outputs": [],
   "source": [
    "train_df.to_csv(\"/content/drive/MyDrive/Learning-NLP-with-PyTorch/Chapter - 7 : Detailed Understanding of Multi-Label Classification/dataset/prep_train_data.csv\",index = False)"
   ]
  },
  {
   "cell_type": "code",
   "execution_count": null,
   "metadata": {},
   "outputs": [],
   "source": []
  },
  {
   "cell_type": "code",
   "execution_count": null,
   "metadata": {},
   "outputs": [],
   "source": []
  }
 ]
}