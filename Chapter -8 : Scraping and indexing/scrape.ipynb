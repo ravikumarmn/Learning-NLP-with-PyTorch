{
 "cells": [
  {
   "cell_type": "code",
   "execution_count": 122,
   "metadata": {},
   "outputs": [],
   "source": [
    "import requests\n",
    "import re \n",
    "from tqdm import tqdm\n",
    "from bs4 import BeautifulSoup\n",
    "import json\n",
    "url = \"https://nips.cc/Conferences/2022/Schedule?showEvent=\"\n"
   ]
  },
  {
   "cell_type": "code",
   "execution_count": 3,
   "metadata": {},
   "outputs": [],
   "source": [
    "response = requests.get(url)\n",
    "soup = BeautifulSoup(response.content,\"html5lib\")"
   ]
  },
  {
   "cell_type": "code",
   "execution_count": 56,
   "metadata": {},
   "outputs": [
    {
     "data": {
      "text/plain": [
       "(3239, 3239)"
      ]
     },
     "execution_count": 56,
     "metadata": {},
     "output_type": "execute_result"
    }
   ],
   "source": [
    "all_show_details  = []\n",
    "for data in soup.findAll(\"div\",onclick=True):\n",
    "    if \"showDetail\" in  data.get(\"onclick\"):\n",
    "        show_details = re.findall(r\"\\AshowDetail\\([0-9]+\\)\",data.get(\"onclick\"))\n",
    "        all_show_details.extend(show_details)\n",
    "len(all_show_details),len(set(all_show_details))"
   ]
  },
  {
   "cell_type": "code",
   "execution_count": 64,
   "metadata": {},
   "outputs": [
    {
     "data": {
      "text/plain": [
       "(3239, 3239)"
      ]
     },
     "execution_count": 64,
     "metadata": {},
     "output_type": "execute_result"
    }
   ],
   "source": [
    "event_ids = []\n",
    "for show_details in all_show_details:\n",
    "    res = re.findall(\"[0-9]+\",show_details)\n",
    "    event_ids.extend([int(x) for x in res])\n",
    "len(event_ids),len(set(event_ids))"
   ]
  },
  {
   "cell_type": "code",
   "execution_count": 116,
   "metadata": {},
   "outputs": [],
   "source": [
    "from concurrent.futures import ThreadPoolExecutor, ProcessPoolExecutor\n",
    "from tqdm import tqdm \n",
    "\n",
    "def concurrency(function,data,length,method=\"thread\"):\n",
    "    if method==\"thread\":\n",
    "        print(\"Mode :\",method)\n",
    "        with ThreadPoolExecutor(5) as pe:\n",
    "           res = list(tqdm(pe.map(function,data),total=length))\n",
    "           return res\n",
    "    elif method==\"process\":\n",
    "        print(\"Mode :\",method)\n",
    "        with ProcessPoolExecutor(5) as pe:\n",
    "           res = list(tqdm(pe.map(function,data),total=length))\n",
    "           return res\n",
    "    else:\n",
    "        print(\"ERROR\")\n",
    "        raise"
   ]
  },
  {
   "cell_type": "code",
   "execution_count": 117,
   "metadata": {},
   "outputs": [],
   "source": [
    "base_event_url = \"https://nips.cc/Conferences/2022/Schedule?showEvent=\"\n",
    "\n",
    "def fetch_data_from_event_id(event_id):\n",
    "    data = {\"event_id\":event_id}\n",
    "    url_ = base_event_url+str(event_id)\n",
    "    event_res = requests.get(url_)\n",
    "    event_soup = BeautifulSoup(event_res.content,\"html5lib\")\n",
    "    paper_title = event_soup.findAll(\"div\",class_=\"maincardBody\")\n",
    "    abstract = event_soup.findAll(\"div\",class_= \"abstractContainer\")\n",
    "    data[\"title\"] = paper_title[0].text\n",
    "    data[\"abstract\"] = abstract[0].text\n",
    "    data[\"url\"] = url_\n",
    "    return data"
   ]
  },
  {
   "cell_type": "code",
   "execution_count": 118,
   "metadata": {},
   "outputs": [
    {
     "name": "stdout",
     "output_type": "stream",
     "text": [
      "Mode : thread\n"
     ]
    },
    {
     "name": "stderr",
     "output_type": "stream",
     "text": [
      "100%|██████████| 3239/3239 [04:04<00:00, 13.24it/s] \n"
     ]
    }
   ],
   "source": [
    "results = concurrency(fetch_data_from_event_id,event_ids,len(event_ids))"
   ]
  },
  {
   "cell_type": "code",
   "execution_count": 123,
   "metadata": {},
   "outputs": [],
   "source": [
    "# all_data = results.copy()"
   ]
  },
  {
   "cell_type": "code",
   "execution_count": null,
   "metadata": {},
   "outputs": [],
   "source": [
    "import random\n",
    "random.shuffle(results)"
   ]
  },
  {
   "cell_type": "code",
   "execution_count": 124,
   "metadata": {},
   "outputs": [],
   "source": [
    "results_dict = {x[\"event_id\"]:x for x in results}"
   ]
  },
  {
   "cell_type": "code",
   "execution_count": 126,
   "metadata": {},
   "outputs": [],
   "source": [
    "json.dump(results_dict,open(\"./scraped_data/neurips2022.json\",\"w\"))"
   ]
  },
  {
   "cell_type": "code",
   "execution_count": null,
   "metadata": {},
   "outputs": [],
   "source": []
  }
 ],
 "metadata": {
  "kernelspec": {
   "display_name": "Python 3.9.15 ('pytorch_p39')",
   "language": "python",
   "name": "python3"
  },
  "language_info": {
   "codemirror_mode": {
    "name": "ipython",
    "version": 3
   },
   "file_extension": ".py",
   "mimetype": "text/x-python",
   "name": "python",
   "nbconvert_exporter": "python",
   "pygments_lexer": "ipython3",
   "version": "3.9.15 (main, Nov  4 2022, 16:13:54) \n[GCC 11.2.0]"
  },
  "orig_nbformat": 4,
  "vscode": {
   "interpreter": {
    "hash": "95aac795b256ca81790b03f5327d66a3955fee3b81dfc95d5d267fe1f88b1813"
   }
  }
 },
 "nbformat": 4,
 "nbformat_minor": 2
}
