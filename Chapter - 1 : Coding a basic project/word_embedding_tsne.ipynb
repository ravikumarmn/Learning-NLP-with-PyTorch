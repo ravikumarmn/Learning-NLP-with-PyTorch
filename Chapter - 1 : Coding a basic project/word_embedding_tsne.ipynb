{
 "cells": [
  {
   "cell_type": "code",
   "execution_count": 2,
   "metadata": {},
   "outputs": [],
   "source": [
    "import numpy as np\n",
    "import pandas as pd\n",
    "import json\n",
    "import gensim\n",
    "import config\n",
    "import pickle\n",
    "import torch\n",
    "from gensim.models import KeyedVectors\n",
    "from tqdm.notebook import tqdm\n",
    "from helper import words_sentence,build_word2vec\n",
    "from model import BCModel"
   ]
  },
  {
   "cell_type": "code",
   "execution_count": 3,
   "metadata": {},
   "outputs": [],
   "source": [
    "dataframe = pd.read_csv(config.preprocessed_dataset_file)"
   ]
  },
  {
   "cell_type": "code",
   "execution_count": 4,
   "metadata": {},
   "outputs": [
    {
     "name": "stdout",
     "output_type": "stream",
     "text": [
      "Total number of words : 86254\n",
      "Total number of sentence : 49582\n",
      "Length of samples :  49582\n",
      "Length of vocab   :  86254\n",
      "Training and saving model...\n",
      "Done\n",
      "Model saved to Chapter - 1 : Coding a basic project/dataset/prep_emb_vec.pkl\n"
     ]
    }
   ],
   "source": [
    "all_words,all_sentence = words_sentence(dataframe)\n",
    "build_word2vec(all_sentence,config.EMBED_SIZE)"
   ]
  },
  {
   "cell_type": "code",
   "execution_count": 5,
   "metadata": {},
   "outputs": [],
   "source": [
    "def tsne_data_create_w2v():\n",
    "    pickle_data = pickle.load(open(config.emb_vec_file,'rb'))\n",
    "    local_vocab = json.load(open(config.vocab_file_name,\"r\"))\n",
    "    index2word = local_vocab['index2word']\n",
    "    word_vectors = pd.DataFrame(pickle_data['embedding_vector'])\n",
    "    word_vectors.to_csv(\"checkpoints/tsne_embeddings/imdb_w2v_embedding_matrix_w2v.tsv\",sep =\"\\t\",header = None,index = False)\n",
    "    only_words = [index2word[str(x)] for x in range(len(index2word))]\n",
    "    word_vectors = {}\n",
    "    word_vectors[\"metadata\"] =only_words\n",
    "    word_vectors = pd.DataFrame(word_vectors)\n",
    "    word_vectors.to_csv(\"checkpoints/tsne_embeddings/imdb_w2v_meta_data_w2v.tsv\",sep =\"\\t\",index = False)\n",
    "    print(\"Read for TSNE\")\n",
    "    return only_words"
   ]
  },
  {
   "cell_type": "code",
   "execution_count": 12,
   "metadata": {},
   "outputs": [],
   "source": [
    "def tsne_data_create_nn_embedding():\n",
    "    checkpoint = torch.load(config.checkpoints_file,map_location=torch.device('cpu'))\n",
    "    params = checkpoint['params']\n",
    "    pickle_data =pickle.load(open(config.emb_vec_file,'rb'))\n",
    "    my_model = BCModel(params,params['vocab_len'])\n",
    "\n",
    "    my_model.load_state_dict(checkpoint['model_state_dict'])\n",
    "    emb_matrix = my_model.embedding.weight.detach().numpy()\n",
    "    emb = pd.DataFrame(emb_matrix)\n",
    "    print(\"Saving nn.Module embeddings and metadadta...\")\n",
    "    emb.to_csv(config.save_checkpoint_dir + \"tsne_embeddings/imdb_checkpoints_embedding_matrix.tsv\",sep = '\\t',header=None,index = False)\n",
    "\n",
    "    vocab = json.load(open(params[\"vocab_file_name\"],\"r\"))\n",
    "    only_words = [vocab[\"index2word\"][str(x)] for x in range(len(vocab[\"index2word\"]))]\n",
    "\n",
    "    word_vectors = {}\n",
    "    word_vectors[\"metadata\"] = only_words\n",
    "    word_vectors_df = pd.DataFrame(word_vectors)\n",
    "    assert emb.shape[0] == word_vectors_df.shape[0]\n",
    "    word_vectors_df.to_csv(config.save_checkpoint_dir + \"tsne_embeddings/imdb_checkpoints_metadata.tsv\",sep =\"\\t\",index = False) #tsne_embeddings\n",
    "    print(\"Saved sucussfully\")"
   ]
  },
  {
   "cell_type": "code",
   "execution_count": 13,
   "metadata": {},
   "outputs": [
    {
     "name": "stdout",
     "output_type": "stream",
     "text": [
      "Read for TSNE\n"
     ]
    },
    {
     "ename": "FileNotFoundError",
     "evalue": "[Errno 2] No such file or directory: 'Chapter - 1 : Coding a basic project/checkpoints/seq2seq_hidden_64_embed_32_imdb_prep.pt'",
     "output_type": "error",
     "traceback": [
      "\u001b[0;31m---------------------------------------------------------------------------\u001b[0m",
      "\u001b[0;31mFileNotFoundError\u001b[0m                         Traceback (most recent call last)",
      "\u001b[1;32m/home/ravikumar/Desktop/NLP/Learning-NLP-with-PyTorch/Chapter - 1 : Coding a basic project/word_embedding_tsne.ipynb Cell 6\u001b[0m in \u001b[0;36m<cell line: 1>\u001b[0;34m()\u001b[0m\n\u001b[1;32m      <a href='vscode-notebook-cell:/home/ravikumar/Desktop/NLP/Learning-NLP-with-PyTorch/Chapter%20-%201%20%3A%20Coding%20a%20basic%20project/word_embedding_tsne.ipynb#X20sZmlsZQ%3D%3D?line=0'>1</a>\u001b[0m \u001b[39mif\u001b[39;00m \u001b[39m__name__\u001b[39m\u001b[39m==\u001b[39m\u001b[39m\"\u001b[39m\u001b[39m__main__\u001b[39m\u001b[39m\"\u001b[39m:\n\u001b[1;32m      <a href='vscode-notebook-cell:/home/ravikumar/Desktop/NLP/Learning-NLP-with-PyTorch/Chapter%20-%201%20%3A%20Coding%20a%20basic%20project/word_embedding_tsne.ipynb#X20sZmlsZQ%3D%3D?line=1'>2</a>\u001b[0m     tsne_data_create_w2v()\n\u001b[0;32m----> <a href='vscode-notebook-cell:/home/ravikumar/Desktop/NLP/Learning-NLP-with-PyTorch/Chapter%20-%201%20%3A%20Coding%20a%20basic%20project/word_embedding_tsne.ipynb#X20sZmlsZQ%3D%3D?line=2'>3</a>\u001b[0m     tsne_data_create_nn_embedding()\n",
      "\u001b[1;32m/home/ravikumar/Desktop/NLP/Learning-NLP-with-PyTorch/Chapter - 1 : Coding a basic project/word_embedding_tsne.ipynb Cell 6\u001b[0m in \u001b[0;36mtsne_data_create_nn_embedding\u001b[0;34m()\u001b[0m\n\u001b[1;32m      <a href='vscode-notebook-cell:/home/ravikumar/Desktop/NLP/Learning-NLP-with-PyTorch/Chapter%20-%201%20%3A%20Coding%20a%20basic%20project/word_embedding_tsne.ipynb#X20sZmlsZQ%3D%3D?line=0'>1</a>\u001b[0m \u001b[39mdef\u001b[39;00m \u001b[39mtsne_data_create_nn_embedding\u001b[39m():\n\u001b[0;32m----> <a href='vscode-notebook-cell:/home/ravikumar/Desktop/NLP/Learning-NLP-with-PyTorch/Chapter%20-%201%20%3A%20Coding%20a%20basic%20project/word_embedding_tsne.ipynb#X20sZmlsZQ%3D%3D?line=1'>2</a>\u001b[0m     checkpoint \u001b[39m=\u001b[39m torch\u001b[39m.\u001b[39;49mload(config\u001b[39m.\u001b[39;49mcheckpoints_file,map_location\u001b[39m=\u001b[39;49mtorch\u001b[39m.\u001b[39;49mdevice(\u001b[39m'\u001b[39;49m\u001b[39mcpu\u001b[39;49m\u001b[39m'\u001b[39;49m))\n\u001b[1;32m      <a href='vscode-notebook-cell:/home/ravikumar/Desktop/NLP/Learning-NLP-with-PyTorch/Chapter%20-%201%20%3A%20Coding%20a%20basic%20project/word_embedding_tsne.ipynb#X20sZmlsZQ%3D%3D?line=2'>3</a>\u001b[0m     params \u001b[39m=\u001b[39m checkpoint[\u001b[39m'\u001b[39m\u001b[39mparams\u001b[39m\u001b[39m'\u001b[39m]\n\u001b[1;32m      <a href='vscode-notebook-cell:/home/ravikumar/Desktop/NLP/Learning-NLP-with-PyTorch/Chapter%20-%201%20%3A%20Coding%20a%20basic%20project/word_embedding_tsne.ipynb#X20sZmlsZQ%3D%3D?line=3'>4</a>\u001b[0m     pickle_data \u001b[39m=\u001b[39mpickle\u001b[39m.\u001b[39mload(\u001b[39mopen\u001b[39m(config\u001b[39m.\u001b[39memb_vec_file,\u001b[39m'\u001b[39m\u001b[39mrb\u001b[39m\u001b[39m'\u001b[39m))\n",
      "File \u001b[0;32m~/miniconda3/envs/base_pytorch/lib/python3.9/site-packages/torch/serialization.py:699\u001b[0m, in \u001b[0;36mload\u001b[0;34m(f, map_location, pickle_module, **pickle_load_args)\u001b[0m\n\u001b[1;32m    696\u001b[0m \u001b[39mif\u001b[39;00m \u001b[39m'\u001b[39m\u001b[39mencoding\u001b[39m\u001b[39m'\u001b[39m \u001b[39mnot\u001b[39;00m \u001b[39min\u001b[39;00m pickle_load_args\u001b[39m.\u001b[39mkeys():\n\u001b[1;32m    697\u001b[0m     pickle_load_args[\u001b[39m'\u001b[39m\u001b[39mencoding\u001b[39m\u001b[39m'\u001b[39m] \u001b[39m=\u001b[39m \u001b[39m'\u001b[39m\u001b[39mutf-8\u001b[39m\u001b[39m'\u001b[39m\n\u001b[0;32m--> 699\u001b[0m \u001b[39mwith\u001b[39;00m _open_file_like(f, \u001b[39m'\u001b[39;49m\u001b[39mrb\u001b[39;49m\u001b[39m'\u001b[39;49m) \u001b[39mas\u001b[39;00m opened_file:\n\u001b[1;32m    700\u001b[0m     \u001b[39mif\u001b[39;00m _is_zipfile(opened_file):\n\u001b[1;32m    701\u001b[0m         \u001b[39m# The zipfile reader is going to advance the current file position.\u001b[39;00m\n\u001b[1;32m    702\u001b[0m         \u001b[39m# If we want to actually tail call to torch.jit.load, we need to\u001b[39;00m\n\u001b[1;32m    703\u001b[0m         \u001b[39m# reset back to the original position.\u001b[39;00m\n\u001b[1;32m    704\u001b[0m         orig_position \u001b[39m=\u001b[39m opened_file\u001b[39m.\u001b[39mtell()\n",
      "File \u001b[0;32m~/miniconda3/envs/base_pytorch/lib/python3.9/site-packages/torch/serialization.py:230\u001b[0m, in \u001b[0;36m_open_file_like\u001b[0;34m(name_or_buffer, mode)\u001b[0m\n\u001b[1;32m    228\u001b[0m \u001b[39mdef\u001b[39;00m \u001b[39m_open_file_like\u001b[39m(name_or_buffer, mode):\n\u001b[1;32m    229\u001b[0m     \u001b[39mif\u001b[39;00m _is_path(name_or_buffer):\n\u001b[0;32m--> 230\u001b[0m         \u001b[39mreturn\u001b[39;00m _open_file(name_or_buffer, mode)\n\u001b[1;32m    231\u001b[0m     \u001b[39melse\u001b[39;00m:\n\u001b[1;32m    232\u001b[0m         \u001b[39mif\u001b[39;00m \u001b[39m'\u001b[39m\u001b[39mw\u001b[39m\u001b[39m'\u001b[39m \u001b[39min\u001b[39;00m mode:\n",
      "File \u001b[0;32m~/miniconda3/envs/base_pytorch/lib/python3.9/site-packages/torch/serialization.py:211\u001b[0m, in \u001b[0;36m_open_file.__init__\u001b[0;34m(self, name, mode)\u001b[0m\n\u001b[1;32m    210\u001b[0m \u001b[39mdef\u001b[39;00m \u001b[39m__init__\u001b[39m(\u001b[39mself\u001b[39m, name, mode):\n\u001b[0;32m--> 211\u001b[0m     \u001b[39msuper\u001b[39m(_open_file, \u001b[39mself\u001b[39m)\u001b[39m.\u001b[39m\u001b[39m__init__\u001b[39m(\u001b[39mopen\u001b[39;49m(name, mode))\n",
      "\u001b[0;31mFileNotFoundError\u001b[0m: [Errno 2] No such file or directory: 'Chapter - 1 : Coding a basic project/checkpoints/seq2seq_hidden_64_embed_32_imdb_prep.pt'"
     ]
    }
   ],
   "source": [
    "if __name__==\"__main__\":\n",
    "    tsne_data_create_w2v()\n",
    "    tsne_data_create_nn_embedding()"
   ]
  },
  {
   "cell_type": "code",
   "execution_count": 50,
   "metadata": {},
   "outputs": [
    {
     "data": {
      "application/vnd.jupyter.widget-view+json": {
       "model_id": "9e62315d0934461bb09641b37e77405a",
       "version_major": 2,
       "version_minor": 0
      },
      "text/plain": [
       "  0%|          | 0/86258 [00:00<?, ?it/s]"
      ]
     },
     "metadata": {},
     "output_type": "display_data"
    },
    {
     "name": "stdout",
     "output_type": "stream",
     "text": [
      "4\n"
     ]
    }
   ],
   "source": [
    "# loading word2vec vocabs and get word2index\n",
    "w2v_vocab = pickle.load(open(config.emb_vec_file,'rb'))\n",
    "# loading local vocabs and get word2index\n",
    "local_vocab = json.load(open(config.vocab_file_name,\"r\"))\n",
    "# creating list of words, of word2index from word2vec.\n",
    "w2v_words = set(w2v_vocab['word2index'].keys())\n",
    "# loop through local vocab words and check, words are in list(w2v) or not.\n",
    "not_found_words = list()\n",
    "for word in tqdm(local_vocab['word2index'].keys()):\n",
    "    try:\n",
    "        w2v_vocab['word2index'][word]\n",
    "    except KeyError:\n",
    "        not_found_words.append(word)\n",
    "\n",
    "    # if word not in w2v_words:\n",
    "    #     not_found_words.append(word)\n",
    "print(len(not_found_words))\n",
    "    \n",
    "        "
   ]
  },
  {
   "cell_type": "code",
   "execution_count": 51,
   "metadata": {},
   "outputs": [
    {
     "data": {
      "text/plain": [
       "['PAD', 'SOS', 'EOS', 'UNK']"
      ]
     },
     "execution_count": 51,
     "metadata": {},
     "output_type": "execute_result"
    }
   ],
   "source": [
    "not_found_words"
   ]
  },
  {
   "cell_type": "code",
   "execution_count": 43,
   "metadata": {},
   "outputs": [
    {
     "data": {
      "text/plain": [
       "['confucian', 'nunchucks', 'the', 'statten']"
      ]
     },
     "execution_count": 43,
     "metadata": {},
     "output_type": "execute_result"
    }
   ],
   "source": [
    "list(w2v_words)[38925:38929]"
   ]
  },
  {
   "cell_type": "code",
   "execution_count": 47,
   "metadata": {},
   "outputs": [
    {
     "data": {
      "text/plain": [
       "0"
      ]
     },
     "execution_count": 47,
     "metadata": {},
     "output_type": "execute_result"
    }
   ],
   "source": [
    "w2v_vocab['word2index']['the']"
   ]
  },
  {
   "cell_type": "code",
   "execution_count": null,
   "metadata": {},
   "outputs": [],
   "source": []
  }
 ],
 "metadata": {
  "kernelspec": {
   "display_name": "base_pytorch",
   "language": "python",
   "name": "python3"
  },
  "language_info": {
   "codemirror_mode": {
    "name": "ipython",
    "version": 3
   },
   "file_extension": ".py",
   "mimetype": "text/x-python",
   "name": "python",
   "nbconvert_exporter": "python",
   "pygments_lexer": "ipython3",
   "version": "3.9.12"
  },
  "metadata": {
   "interpreter": {
    "hash": "4cd7ab41f5fca4b9b44701077e38c5ffd31fe66a6cab21e0214b68d958d0e462"
   }
  },
  "vscode": {
   "interpreter": {
    "hash": "ecc1e0c57004a42925f1a7d3528192b163c048a803ed4402c89cd3dd7f075304"
   }
  }
 },
 "nbformat": 4,
 "nbformat_minor": 2
}
