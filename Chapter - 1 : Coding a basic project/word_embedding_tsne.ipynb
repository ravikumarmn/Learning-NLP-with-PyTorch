{
 "cells": [
  {
   "cell_type": "code",
   "execution_count": 8,
   "metadata": {},
   "outputs": [],
   "source": [
    "import numpy as np\n",
    "import pandas as pd\n",
    "import json\n",
    "import gensim\n",
    "import config\n",
    "import pickle\n",
    "import torch\n",
    "from gensim.models import KeyedVectors\n",
    "from tqdm.notebook import tqdm\n",
    "from helper import words_sentence,build_word2vec\n",
    "from model import BCModel"
   ]
  },
  {
   "cell_type": "code",
   "execution_count": 9,
   "metadata": {},
   "outputs": [],
   "source": [
    "dataframe = pd.read_csv(config.preprocessed_dataset_file)"
   ]
  },
  {
   "cell_type": "code",
   "execution_count": 10,
   "metadata": {},
   "outputs": [
    {
     "name": "stdout",
     "output_type": "stream",
     "text": [
      "Total number of words : 86254\n",
      "Total number of sentence : 49582\n",
      "Length of samples :  49582\n",
      "Length of vocab   :  86254\n",
      "Training and saving model...\n",
      "Done\n",
      "Model saved to Chapter - 1 : Coding a basic project/dataset/prep_emb_vec.pkl\n"
     ]
    }
   ],
   "source": [
    "all_words,all_sentence = words_sentence(dataframe)\n",
    "build_word2vec(all_sentence,config.EMBED_SIZE)"
   ]
  },
  {
   "cell_type": "code",
   "execution_count": 11,
   "metadata": {},
   "outputs": [],
   "source": [
    "def tsne_data_create_w2v():\n",
    "    pickle_data = pickle.load(open(config.emb_vec_file,'rb'))\n",
    "    local_vocab = json.load(open(config.vocab_file_name,\"r\"))\n",
    "    index2word = local_vocab['index2word']\n",
    "    word_vectors = pd.DataFrame(pickle_data['embedding_vector']).iloc[:10000,:]\n",
    "    word_vectors.to_csv(\"checkpoints/tsne_embeddings/imdb_w2v_embedding_matrix_w2v.tsv\",sep =\"\\t\",header = None,index = False)\n",
    "    only_words = [index2word[str(x)] for x in range(len(index2word))]\n",
    "    word_vectors = {}\n",
    "    word_vectors[\"metadata\"] =only_words\n",
    "    word_vectors = pd.DataFrame(word_vectors).iloc[:10000,:]\n",
    "    word_vectors.to_csv(\"checkpoints/tsne_embeddings/imdb_w2v_meta_data_w2v.tsv\",sep =\"\\t\",header=None,index = False)\n",
    "    print(\"Ready for TSNE\")"
   ]
  },
  {
   "cell_type": "code",
   "execution_count": 14,
   "metadata": {},
   "outputs": [],
   "source": [
    "def tsne_data_create_nn_embedding():\n",
    "    checkpoint = torch.load(\"checkpoints/bidi_lstm_max_mean_pool_concat_pretrained_w2v__seq2seq_hidden_64_embed_32.pt\",map_location=torch.device('cpu'))\n",
    "    params = checkpoint['params']\n",
    "    pickle_data =pickle.load(open(config.emb_vec_file,'rb'))\n",
    "    my_model = BCModel(params,params['vocab_len'])\n",
    "\n",
    "    my_model.load_state_dict(checkpoint['model_state_dict'])\n",
    "    emb_matrix = my_model.embedding.weight.detach().numpy()\n",
    "    emb = pd.DataFrame(emb_matrix).iloc[:10000,:]\n",
    "    print(\"Saving nn.Module embeddings and metadadta...\")\n",
    "    emb.to_csv(\"checkpoints/tsne_embeddings/imdb_checkpoints_embedding_matrix.tsv\",sep = '\\t',header=None,index = False)\n",
    "\n",
    "    vocab = json.load(open(params[\"vocab_file_name\"],\"r\"))\n",
    "    only_words = [vocab[\"index2word\"][str(x)] for x in range(len(vocab[\"index2word\"]))]\n",
    "\n",
    "    word_vectors = {}\n",
    "    word_vectors[\"metadata\"] = only_words\n",
    "    word_vectors_df = pd.DataFrame(word_vectors).iloc[:10000,:]\n",
    "    assert emb.shape[0] == word_vectors_df.shape[0]\n",
    "    word_vectors_df.to_csv(\"checkpoints/tsne_embeddings/imdb_checkpoints_metadata.tsv\",sep =\"\\t\",header=None,index = False) #tsne_embeddings\n",
    "    print(\"Saved sucussfully\")"
   ]
  },
  {
   "cell_type": "code",
   "execution_count": 15,
   "metadata": {},
   "outputs": [
    {
     "name": "stdout",
     "output_type": "stream",
     "text": [
      "Saving nn.Module embeddings and metadadta...\n",
      "Saved sucussfully\n"
     ]
    }
   ],
   "source": [
    "# tsne_data_create_w2v()\n",
    "tsne_data_create_nn_embedding()"
   ]
  },
  {
   "cell_type": "markdown",
   "metadata": {},
   "source": [
    "#### Sanitity check : all words exist in both pretrained and randomly trained data"
   ]
  },
  {
   "cell_type": "code",
   "execution_count": null,
   "metadata": {},
   "outputs": [],
   "source": [
    "# loading word2vec vocabs and get word2index\n",
    "w2v_vocab = pickle.load(open(config.emb_vec_file,'rb'))\n",
    "# loading local vocabs and get word2index\n",
    "local_vocab = json.load(open(config.vocab_file_name,\"r\"))\n",
    "# creating list of words, of word2index from word2vec.\n",
    "w2v_words = set(w2v_vocab['word2index'].keys())\n",
    "# loop through local vocab words and check, words are in list(w2v) or not.\n",
    "not_found_words = list()\n",
    "for word in tqdm(local_vocab['word2index'].keys()):\n",
    "    try:\n",
    "        w2v_vocab['word2index'][word]\n",
    "    except KeyError:\n",
    "        not_found_words.append(word)\n",
    "\n",
    "    # if word not in w2v_words:\n",
    "    #     not_found_words.append(word)\n",
    "print(len(not_found_words))"
   ]
  },
  {
   "cell_type": "code",
   "execution_count": 51,
   "metadata": {},
   "outputs": [
    {
     "data": {
      "text/plain": [
       "['PAD', 'SOS', 'EOS', 'UNK']"
      ]
     },
     "execution_count": 51,
     "metadata": {},
     "output_type": "execute_result"
    }
   ],
   "source": [
    "not_found_words"
   ]
  }
 ],
 "metadata": {
  "kernelspec": {
   "display_name": "base_pytorch",
   "language": "python",
   "name": "python3"
  },
  "language_info": {
   "codemirror_mode": {
    "name": "ipython",
    "version": 3
   },
   "file_extension": ".py",
   "mimetype": "text/x-python",
   "name": "python",
   "nbconvert_exporter": "python",
   "pygments_lexer": "ipython3",
   "version": "3.9.12"
  },
  "metadata": {
   "interpreter": {
    "hash": "4cd7ab41f5fca4b9b44701077e38c5ffd31fe66a6cab21e0214b68d958d0e462"
   }
  },
  "vscode": {
   "interpreter": {
    "hash": "ecc1e0c57004a42925f1a7d3528192b163c048a803ed4402c89cd3dd7f075304"
   }
  }
 },
 "nbformat": 4,
 "nbformat_minor": 2
}
